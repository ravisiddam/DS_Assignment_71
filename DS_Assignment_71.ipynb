{
 "cells": [
  {
   "cell_type": "code",
   "execution_count": 2,
   "metadata": {},
   "outputs": [
    {
     "name": "stdout",
     "output_type": "stream",
     "text": [
      "26.4\n",
      "36.0\n",
      "45.5\n",
      "59.8\n",
      "59.6\n",
      "58.8\n",
      "57.8\n",
      "56.7\n",
      "50.2\n",
      "43.0\n",
      "34.9\n",
      "25.0\n"
     ]
    }
   ],
   "source": [
    "import numpy as np\n",
    "def mymovingavg(list,num):\n",
    "    k = len(list)\n",
    "    m = k-num\n",
    "    for x in range(0,k-1,1):\n",
    "        mavg = np.sum(list[x:x+m])\n",
    "        print(mavg/m)\n",
    "    \n",
    "mymovingavg([3, 5, 7, 2, 8, 10, 11, 65, 72, 81, 99, 100, 150], 3)"
   ]
  },
  {
   "cell_type": "code",
   "execution_count": null,
   "metadata": {},
   "outputs": [],
   "source": []
  },
  {
   "cell_type": "code",
   "execution_count": null,
   "metadata": {},
   "outputs": [],
   "source": []
  }
 ],
 "metadata": {
  "kernelspec": {
   "display_name": "Python 3",
   "language": "python",
   "name": "python3"
  },
  "language_info": {
   "codemirror_mode": {
    "name": "ipython",
    "version": 3
   },
   "file_extension": ".py",
   "mimetype": "text/x-python",
   "name": "python",
   "nbconvert_exporter": "python",
   "pygments_lexer": "ipython3",
   "version": "3.6.5"
  }
 },
 "nbformat": 4,
 "nbformat_minor": 2
}
